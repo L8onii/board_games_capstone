{
 "cells": [
  {
   "cell_type": "markdown",
   "metadata": {},
   "source": [
    "Importing the libraries needed for the project, and reading in the first dataset (boardgames_ranks.csv)"
   ]
  },
  {
   "cell_type": "code",
   "execution_count": null,
   "metadata": {},
   "outputs": [],
   "source": [
    "import pandas as pd\n",
    "import requests\n",
    "import matplotlib.pyplot as plt\n",
    "import numpy as np\n",
    "import xml.etree.ElementTree as ET\n",
    "import time\n",
    "from bs4 import BeautifulSoup\n",
    "import re\n",
    "\n",
    "df_board_game_rankings = pd.read_csv('.\\\\.venv\\\\data\\\\boardgames_ranks.csv')"
   ]
  },
  {
   "cell_type": "markdown",
   "metadata": {},
   "source": [
    "Data Read-in & Cleaning\n",
    "1) Reading in the same dataset under a different variable name to preserve the original.\n",
    "2) Filtering out board games with an overall rank of 0, as we only want games with an actual ranking.\n",
    "3) Creating dataframe df_bgr_top which constrains boardgames to those with an overall rank of 1 - 250.\n",
    "4) Replacing NaN values in the DataFrame with '0'\n",
    "5) Converting fields with numerical values to int using dictionary.\n",
    "6) Rounding average fields to 2 places.\n"
   ]
  },
  {
   "cell_type": "code",
   "execution_count": null,
   "metadata": {},
   "outputs": [],
   "source": [
    "##1\n",
    "df_bgr2 = pd.read_csv('.\\\\.venv\\\\data\\\\boardgames_ranks.csv')\n",
    "\n",
    "##2\n",
    "zerorank = df_bgr2[(df_bgr2['rank'] == 0)].index\n",
    "df_bgr_nozero = pd.DataFrame(df_bgr2.drop(zerorank, inplace = True))\n",
    "\n",
    "##3\n",
    "df_bgr_top = pd.DataFrame(df_bgr2.loc[(df_bgr2['rank'] >=1) & (df_bgr2['rank'] <=250)])\n",
    "\n",
    "##4\n",
    "df_bgr_top.fillna(0, inplace=True)\n",
    "\n",
    "##5\n",
    "convert_dict = {'abstracts_rank': int,\n",
    "                'cgs_rank': int,\n",
    "                'childrensgames_rank': int,\n",
    "                'familygames_rank': int,\n",
    "                'partygames_rank': int,\n",
    "                'strategygames_rank': int,\n",
    "                'thematic_rank': int,\n",
    "                'wargames_rank': int}\n",
    "df_bgr_top = df_bgr_top.astype(convert_dict)\n",
    "\n",
    "##6\n",
    "df_bgr_top.bayesaverage = df_bgr2.bayesaverage.round(2)\n",
    "df_bgr_top.average = df_bgr2.average.round(2)"
   ]
  },
  {
   "cell_type": "markdown",
   "metadata": {},
   "source": [
    "Extracting Information from BGG API\n",
    "1) Extracting list of 250 BGG_IDs to feed into BGG_XML_API_2\n",
    "2) Iterating through all 250 BGG_IDs\n",
    "    a. Pull XML for each of the 250 BGG_IDs, sleeping when the bgg_id%7 is equal to 0, to adhere to API usage terms.\n",
    "    b. Parse XML for Mechanic Name and ID.\n",
    "    c. Extract all mechanics associated with a game, and append to a list.\n",
    "    d. Create pd.Series from list.\n",
    "    e. Create pd.Dataframe from series.\n",
    "\n",
    "***NOTE - This block will take some time to run."
   ]
  },
  {
   "cell_type": "code",
   "execution_count": null,
   "metadata": {},
   "outputs": [],
   "source": [
    "##1\n",
    "bg_ids = df_bgr_top[str('id')].values.tolist()\n",
    "\n",
    "##2\n",
    "API_base_string = 'https://boardgamegeek.com/xmlapi2/thing?id='\n",
    "mech_id_ls = []\n",
    "mech_name_ls = []\n",
    "mech_bggid_ls = []\n",
    "\n",
    "##2a.\n",
    "for id in bg_ids:\n",
    "    api_rec = requests.get(API_base_string + str(id))\n",
    "    api_data = api_rec.content\n",
    "    root = ET.fromstring(api_data)\n",
    "    if id%7 == 0: \n",
    "      time.sleep(5)\n",
    "\n",
    "##2b,2c.\n",
    "      for item in root:\n",
    "        for link in item.findall('link'):\n",
    "          if(link.get('type') == 'boardgamemechanic'):\n",
    "            mech_id_ls.append(link.get('id'))\n",
    "            mech_name_ls.append(link.get('value'))\n",
    "            mech_bggid_ls.append(item.get('id'))\n",
    "    else:\n",
    "      for item in root:\n",
    "        for link in item.findall('link'):\n",
    "           if(link.get('type') == 'boardgamemechanic'):\n",
    "            mech_id_ls.append(link.get('id'))\n",
    "            mech_name_ls.append(link.get('value'))\n",
    "            mech_bggid_ls.append(item.get('id'))\n",
    "\n",
    "##2d.       \n",
    "mech_bggid_ser = pd.Series(mech_bggid_ls)\n",
    "mech_id_ser = pd.Series(mech_id_ls)\n",
    "mech_name_ser = pd.Series(mech_name_ls)\n",
    "\n",
    "##2e.\n",
    "mechv3_frame = {'BGG_ID': mech_bggid_ser, 'Mechanic_ID': mech_id_ser, 'Mechanic_Name': mech_name_ser}\n",
    "df_mechv3 = pd.DataFrame(mechv3_frame)\n",
    "df_mechv3"
   ]
  },
  {
   "cell_type": "markdown",
   "metadata": {},
   "source": [
    "Merging Board Game Ranks dataframe with Mechanics DataFrame on bgg_id"
   ]
  },
  {
   "cell_type": "markdown",
   "metadata": {},
   "source": [
    "1) Read in Designers with Location CSV file.\n",
    "2) Creating new dataframe constrained by only the BGG_IDs existing in the top 250."
   ]
  },
  {
   "cell_type": "code",
   "execution_count": null,
   "metadata": {},
   "outputs": [],
   "source": [
    "##1\n",
    "df_bgdesigner_loc = pd.read_csv('.\\\\.venv\\\\data\\\\BGG_Designer_Location.csv')\n",
    "\n",
    "##2\n",
    "df_topbgdes_loc = pd.DataFrame(df_bgdesigner_loc.loc[df_bgdesigner_loc['BGG_ID'].isin(bg_ids)])\n",
    "df_topbgdes_loc.reset_index(drop=True, inplace=True)"
   ]
  }
 ],
 "metadata": {
  "language_info": {
   "name": "python"
  }
 },
 "nbformat": 4,
 "nbformat_minor": 2
}
