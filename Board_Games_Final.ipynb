{
 "cells": [
  {
   "cell_type": "markdown",
   "metadata": {},
   "source": [
    "Importing the libraries needed for the project, and reading in the first dataset (boardgames_ranks.csv)"
   ]
  },
  {
   "cell_type": "code",
   "execution_count": 1,
   "metadata": {},
   "outputs": [],
   "source": [
    "import pandas as pd\n",
    "import requests\n",
    "import matplotlib.pyplot as plt\n",
    "import numpy as np\n",
    "import xml.etree.ElementTree as ET\n",
    "import time\n",
    "from bs4 import BeautifulSoup\n",
    "import re\n",
    "\n",
    "df_board_game_rankings = pd.read_csv('.\\\\.venv\\\\data\\\\boardgames_ranks.csv')"
   ]
  },
  {
   "cell_type": "markdown",
   "metadata": {},
   "source": [
    "Data Read-in & Cleaning\n",
    "1) Reading in the same dataset under a different variable name to preserve the original.\n",
    "2) Filtering out board games with an overall rank of 0, as we only want games with an actual ranking.\n",
    "3) Creating dataframe df_bgr_top which constrains boardgames to those with an overall rank of 1 - 250.\n",
    "4) Replacing NaN values in the DataFrame with '0'\n",
    "5) Renaming fields.\n"
   ]
  },
  {
   "cell_type": "code",
   "execution_count": null,
   "metadata": {},
   "outputs": [
    {
     "name": "stdout",
     "output_type": "stream",
     "text": [
      "<class 'pandas.core.frame.DataFrame'>\n",
      "Index: 250 entries, 0 to 249\n",
      "Data columns (total 16 columns):\n",
      " #   Column              Non-Null Count  Dtype  \n",
      "---  ------              --------------  -----  \n",
      " 0   BGG_ID              250 non-null    int64  \n",
      " 1   GAME_NAME           250 non-null    object \n",
      " 2   PUBLISH_YR          250 non-null    int64  \n",
      " 3   OVERALL_RANK        250 non-null    int64  \n",
      " 4   BAYES_AVG           250 non-null    float64\n",
      " 5   AVG_RATING          250 non-null    float64\n",
      " 6   USER_RATING         250 non-null    int64  \n",
      " 7   EXPANSION_IND       250 non-null    int64  \n",
      " 8   ABSTRACTS_RANK      250 non-null    float64\n",
      " 9   CGS_RANK            250 non-null    float64\n",
      " 10  CHILDREN_GAME_RANK  250 non-null    float64\n",
      " 11  FAMILY_RANK         250 non-null    float64\n",
      " 12  PARTY_RANK          250 non-null    float64\n",
      " 13  STRATEGY_RANK       250 non-null    float64\n",
      " 14  THEMATIC_RANK       250 non-null    float64\n",
      " 15  WARGAME_RANK        250 non-null    float64\n",
      "dtypes: float64(10), int64(5), object(1)\n",
      "memory usage: 33.2+ KB\n"
     ]
    }
   ],
   "source": [
    "##1\n",
    "df_bgr2 = pd.read_csv('.\\\\.venv\\\\data\\\\boardgames_ranks.csv')\n",
    "\n",
    "##2\n",
    "zerorank = df_bgr2[(df_bgr2['rank'] == 0)].index\n",
    "df_bgr_nozero = pd.DataFrame(df_bgr2.drop(zerorank, inplace = True))\n",
    "\n",
    "##3\n",
    "df_bgr_top = pd.DataFrame(df_bgr2.loc[(df_bgr2['rank'] >=1) & (df_bgr2['rank'] <=250)])\n",
    "\n",
    "##4\n",
    "df_bgr_top.fillna(0, inplace=True)\n",
    "\n",
    "##5\n",
    "df_bgr_top.rename(columns={'id': 'BGG_ID', 'name': 'GAME_NAME', 'yearpublished': 'PUBLISH_YR', 'rank': 'OVERALL_RANK', 'bayesaverage': 'BAYES_AVG',\n",
    "                           'average': 'AVG_RATING','usersrated': 'USER_RATING', 'is_expansion': 'EXPANSION_IND', 'abstracts_rank': 'ABSTRACTS_RANK',\n",
    "                           'cgs_rank': 'CGS_RANK', 'childrensgames_rank': 'CHILDREN_GAME_RANK', 'familygames_rank': 'FAMILY_RANK', 'partygames_rank': 'PARTY_RANK',\n",
    "                           'strategygames_rank': 'STRATEGY_RANK', 'thematic_rank': 'THEMATIC_RANK', 'wargames_rank': 'WARGAME_RANK'}, inplace=True)\n"
   ]
  },
  {
   "cell_type": "markdown",
   "metadata": {},
   "source": [
    "Extracting Information from BGG API\n",
    "1) Extracting list of 250 BGG_IDs to feed into BGG_XML_API_2\n",
    "2) Setting up variables and list storage for the loop.\n",
    "3) Iterate through all 250 BGG_IDs, and request XML for each. Sleeping when BGG_ID %7 is equal to 0, to adhere to API usage terms.\n",
    "4) Parse XML for Mechanic Name and ID.\n",
    "5) Extract all mechanics associated with a game, and append to a list.\n",
    "6) Create pd.Series from lists.\n",
    "7) Create pd.Dataframe from multiple series.\n",
    "8) Convert fields to needed data types for Board Game Ranking dataframe (df_bgr_top)\n",
    "9) Convert field to needed data type for Mechanics dataframe (df_mechv3)\n",
    "10) Merge Game Rankings Dataframe and Mechanics Dataframe.\n",
    "11) Cleanup - round averages to 2 places.\n",
    "\n",
    "***NOTE - This block will take some time to run."
   ]
  },
  {
   "cell_type": "code",
   "execution_count": null,
   "metadata": {},
   "outputs": [],
   "source": [
    "##1\n",
    "bg_ids = df_bgr_top[str('BGG_ID')].values.tolist()\n",
    "\n",
    "##2\n",
    "API_base_string = 'https://boardgamegeek.com/xmlapi2/thing?id='\n",
    "mech_id_ls = []\n",
    "mech_name_ls = []\n",
    "mech_bggid_ls = []\n",
    "\n",
    "##3\n",
    "for id in bg_ids:\n",
    "    api_rec = requests.get(API_base_string + str(id))\n",
    "    api_data = api_rec.content\n",
    "    root = ET.fromstring(api_data)\n",
    "    if id%7 == 0: \n",
    "      time.sleep(5)\n",
    "\n",
    "##4,5\n",
    "      for item in root:\n",
    "        for link in item.findall('link'):\n",
    "          if(link.get('type') == 'boardgamemechanic'):\n",
    "            mech_id_ls.append(link.get('id'))\n",
    "            mech_name_ls.append(link.get('value'))\n",
    "            mech_bggid_ls.append(item.get('id'))\n",
    "    else:\n",
    "      for item in root:\n",
    "        for link in item.findall('link'):\n",
    "           if(link.get('type') == 'boardgamemechanic'):\n",
    "            mech_id_ls.append(link.get('id'))\n",
    "            mech_name_ls.append(link.get('value'))\n",
    "            mech_bggid_ls.append(item.get('id'))\n",
    "\n",
    "##6       \n",
    "mech_bggid_ser = pd.Series(mech_bggid_ls)\n",
    "mech_id_ser = pd.Series(mech_id_ls)\n",
    "mech_name_ser = pd.Series(mech_name_ls)\n",
    "\n",
    "##7\n",
    "mechv3_frame = {'BGG_ID': mech_bggid_ser, 'MECH_ID': mech_id_ser, 'MECH_NAME': mech_name_ser}\n",
    "df_mechv3 = pd.DataFrame(mechv3_frame)\n",
    "\n",
    "##8\n",
    "convert_dict = {'BGG_ID': int,\n",
    "                'GAME_NAME': object,\n",
    "                'PUBLISH_YR': int,\n",
    "                'OVERALL_RANK': int,\n",
    "                'BAYES_AVG': float,\n",
    "                'AVG_RATING': float,\n",
    "                'USER_RATING': int,\n",
    "                'EXPANSION_IND': bool,\n",
    "                'ABSTRACTS_RANK': int,\n",
    "                'CGS_RANK': int,\n",
    "                'CHILDREN_GAME_RANK': int,\n",
    "                'FAMILY_RANK': int,\n",
    "                'PARTY_RANK': int,\n",
    "                'STRATEGY_RANK': int,\n",
    "                'THEMATIC_RANK': int,\n",
    "                'WARGAME_RANK': int}\n",
    "df_bgr_top = df_bgr_top.astype(convert_dict)\n",
    "\n",
    "##9\n",
    "mech_convert_dict = {'MECH_ID': object}\n",
    "df_mechv3 = df_mechv3.astype(mech_convert_dict)\n",
    "\n",
    "##10\n",
    "df_gamemech_merge = pd.merge(df_bgr_top, df_mechv3,on='BGG_ID',how='left')\n",
    "df_game_mech = pd.DataFrame(df_gamemech_merge)\n",
    "\n",
    "##11\n",
    "df_game_mech.BAYES_AVG = df_game_mech.BAYES_AVG.round(2)\n",
    "df_game_mech.AVG_RATING = df_game_mech.AVG_RATING.round(2)\n"
   ]
  },
  {
   "cell_type": "markdown",
   "metadata": {},
   "source": [
    "1) Read in Designers with Location CSV file.\n",
    "2) Creating new dataframe constrained by only the BGG_IDs existing in the top 250."
   ]
  },
  {
   "cell_type": "code",
   "execution_count": 3,
   "metadata": {},
   "outputs": [
    {
     "ename": "NameError",
     "evalue": "name 'bg_ids' is not defined",
     "output_type": "error",
     "traceback": [
      "\u001b[1;31m---------------------------------------------------------------------------\u001b[0m",
      "\u001b[1;31mNameError\u001b[0m                                 Traceback (most recent call last)",
      "Cell \u001b[1;32mIn[3], line 5\u001b[0m\n\u001b[0;32m      2\u001b[0m df_bgdesigner_loc \u001b[38;5;241m=\u001b[39m pd\u001b[38;5;241m.\u001b[39mread_csv(\u001b[38;5;124m'\u001b[39m\u001b[38;5;124m.\u001b[39m\u001b[38;5;130;01m\\\\\u001b[39;00m\u001b[38;5;124m.venv\u001b[39m\u001b[38;5;130;01m\\\\\u001b[39;00m\u001b[38;5;124mdata\u001b[39m\u001b[38;5;130;01m\\\\\u001b[39;00m\u001b[38;5;124mBGG_Designer_Location.csv\u001b[39m\u001b[38;5;124m'\u001b[39m)\n\u001b[0;32m      4\u001b[0m \u001b[38;5;66;03m##2\u001b[39;00m\n\u001b[1;32m----> 5\u001b[0m df_topbgdes_loc \u001b[38;5;241m=\u001b[39m pd\u001b[38;5;241m.\u001b[39mDataFrame(df_bgdesigner_loc\u001b[38;5;241m.\u001b[39mloc[df_bgdesigner_loc[\u001b[38;5;124m'\u001b[39m\u001b[38;5;124mBGG_ID\u001b[39m\u001b[38;5;124m'\u001b[39m]\u001b[38;5;241m.\u001b[39misin(\u001b[43mbg_ids\u001b[49m)])\n\u001b[0;32m      6\u001b[0m df_topbgdes_loc\u001b[38;5;241m.\u001b[39mreset_index(drop\u001b[38;5;241m=\u001b[39m\u001b[38;5;28;01mTrue\u001b[39;00m, inplace\u001b[38;5;241m=\u001b[39m\u001b[38;5;28;01mTrue\u001b[39;00m)\n\u001b[0;32m      7\u001b[0m df_topbgdes_loc\u001b[38;5;241m.\u001b[39mhead(\u001b[38;5;241m30\u001b[39m)\n",
      "\u001b[1;31mNameError\u001b[0m: name 'bg_ids' is not defined"
     ]
    }
   ],
   "source": [
    "##1\n",
    "df_bgdesigner_loc = pd.read_csv('.\\\\.venv\\\\data\\\\BGG_Designer_Location.csv')\n",
    "\n",
    "##2\n",
    "df_topbgdes_loc = pd.DataFrame(df_bgdesigner_loc.loc[df_bgdesigner_loc['BGG_ID'].isin(bg_ids)])\n",
    "df_topbgdes_loc.reset_index(drop=True, inplace=True)\n",
    "df_topbgdes_loc.head(30)"
   ]
  }
 ],
 "metadata": {
  "kernelspec": {
   "display_name": ".venv",
   "language": "python",
   "name": "python3"
  },
  "language_info": {
   "codemirror_mode": {
    "name": "ipython",
    "version": 3
   },
   "file_extension": ".py",
   "mimetype": "text/x-python",
   "name": "python",
   "nbconvert_exporter": "python",
   "pygments_lexer": "ipython3",
   "version": "3.12.4"
  }
 },
 "nbformat": 4,
 "nbformat_minor": 2
}
