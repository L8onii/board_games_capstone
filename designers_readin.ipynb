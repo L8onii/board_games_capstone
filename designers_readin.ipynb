{
 "cells": [
  {
   "cell_type": "code",
   "execution_count": 1,
   "metadata": {},
   "outputs": [],
   "source": [
    "import pandas as pd\n",
    "import requests\n",
    "import matplotlib.pyplot as plt\n",
    "import numpy as np\n",
    "import xml.etree.ElementTree as ET\n",
    "import time\n",
    "from bs4 import BeautifulSoup\n",
    "import re\n",
    "import lxml"
   ]
  },
  {
   "cell_type": "code",
   "execution_count": 2,
   "metadata": {},
   "outputs": [
    {
     "name": "stdout",
     "output_type": "stream",
     "text": [
      "<class 'pandas.core.frame.DataFrame'>\n",
      "RangeIndex: 21925 entries, 0 to 21924\n",
      "Columns: 1594 entries, Karl-Heinz Schmiel to Low-Exp Designer\n",
      "dtypes: int64(1594)\n",
      "memory usage: 266.6 MB\n"
     ]
    }
   ],
   "source": [
    "df_board_game_designers = pd.read_csv('.\\\\.venv\\\\data\\\\designers_reduced.csv')\n",
    "df_board_game_designers.info()"
   ]
  }
 ],
 "metadata": {
  "kernelspec": {
   "display_name": ".venv",
   "language": "python",
   "name": "python3"
  },
  "language_info": {
   "codemirror_mode": {
    "name": "ipython",
    "version": 3
   },
   "file_extension": ".py",
   "mimetype": "text/x-python",
   "name": "python",
   "nbconvert_exporter": "python",
   "pygments_lexer": "ipython3",
   "version": "3.12.4"
  }
 },
 "nbformat": 4,
 "nbformat_minor": 2
}
